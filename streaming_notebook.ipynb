{
 "cells": [
  {
   "cell_type": "code",
   "execution_count": 1,
   "metadata": {},
   "outputs": [],
   "source": [
    "from tensorflow import keras\n",
    "import tensorflow as tf\n",
    "import numpy as np"
   ]
  },
  {
   "cell_type": "code",
   "execution_count": 2,
   "metadata": {},
   "outputs": [],
   "source": [
    "# Import the data\n",
    "data = {\n",
    "    '00': (np.load('data/id_00/X.npy'), np.load('data/id_00/y.npy')),\n",
    "    '02': (np.load('data/id_02/X.npy'), np.load('data/id_02/y.npy')),\n",
    "    '04': (np.load('data/id_04/X.npy'), np.load('data/id_04/y.npy')),\n",
    "    '06': (np.load('data/id_06/X.npy'), np.load('data/id_06/y.npy')),\n",
    "}\n",
    "# Leave only the first column of the target\n",
    "for key in data:\n",
    "    data[key] = (data[key][0], data[key][1][:, 0])\n",
    "# Convert the labels 1 -> 0 and 2 -> 1: 0 - normal, 1 - failure\n",
    "for key in data:\n",
    "    data[key] = (data[key][0], np.where(data[key][1] == 1, 1, 0))"
   ]
  },
  {
   "attachments": {},
   "cell_type": "markdown",
   "metadata": {},
   "source": [
    "## General approach"
   ]
  },
  {
   "cell_type": "code",
   "execution_count": 3,
   "metadata": {},
   "outputs": [
    {
     "name": "stdout",
     "output_type": "stream",
     "text": [
      "Model: \"sequential_1\"\n",
      "_________________________________________________________________\n",
      " Layer (type)                Output Shape              Param #   \n",
      "=================================================================\n",
      " dense_4 (Dense)             (None, 64)                827904    \n",
      "                                                                 \n",
      " dense_5 (Dense)             (None, 64)                4160      \n",
      "                                                                 \n",
      " dense_6 (Dense)             (None, 32)                2080      \n",
      "                                                                 \n",
      " dense_7 (Dense)             (None, 1)                 33        \n",
      "                                                                 \n",
      "=================================================================\n",
      "Total params: 834177 (3.18 MB)\n",
      "Trainable params: 834177 (3.18 MB)\n",
      "Non-trainable params: 0 (0.00 Byte)\n",
      "_________________________________________________________________\n",
      "None\n"
     ]
    }
   ],
   "source": [
    "# Load the general model\n",
    "model = keras.models.load_model('models/best/general.h5')\n",
    "\n",
    "# Get the shape of the nn\n",
    "print(model.summary())"
   ]
  },
  {
   "cell_type": "code",
   "execution_count": 4,
   "metadata": {},
   "outputs": [
    {
     "name": "stdout",
     "output_type": "stream",
     "text": [
      "Model: \"sequential\"\n",
      "_________________________________________________________________\n",
      " Layer (type)                Output Shape              Param #   \n",
      "=================================================================\n",
      " dense_4 (Dense)             (None, 64)                827904    \n",
      "                                                                 \n",
      " dense_5 (Dense)             (None, 64)                4160      \n",
      "                                                                 \n",
      " dense_6 (Dense)             (None, 32)                2080      \n",
      "                                                                 \n",
      "=================================================================\n",
      "Total params: 834144 (3.18 MB)\n",
      "Trainable params: 834144 (3.18 MB)\n",
      "Non-trainable params: 0 (0.00 Byte)\n",
      "_________________________________________________________________\n",
      "None\n"
     ]
    }
   ],
   "source": [
    "# Cut the last layer\n",
    "new_model = tf.keras.models.Sequential(model.layers[:-1])\n",
    "\n",
    "# Get the shape of the nn\n",
    "print(new_model.summary())"
   ]
  },
  {
   "cell_type": "code",
   "execution_count": 5,
   "metadata": {},
   "outputs": [
    {
     "name": "stdout",
     "output_type": "stream",
     "text": [
      "1561/1561 [==============================] - 1s 798us/step\n"
     ]
    },
    {
     "data": {
      "text/plain": [
       "((49950, 32), (49950,))"
      ]
     },
     "execution_count": 5,
     "metadata": {},
     "output_type": "execute_result"
    }
   ],
   "source": [
    "# Merge the datasets\n",
    "X_merged = np.concatenate([data[key][0] for key in data])\n",
    "y_merged = np.concatenate([data[key][1] for key in data])\n",
    "\n",
    "# Extract the features\n",
    "X_merged = new_model.predict(X_merged)\n",
    "\n",
    "X_merged.shape, y_merged.shape"
   ]
  },
  {
   "cell_type": "code",
   "execution_count": 6,
   "metadata": {},
   "outputs": [],
   "source": [
    "dataset = [({j: X_merged[i,j] for j in range(X_merged.shape[1])}, y_merged[i]) for i in range(X_merged.shape[0])]"
   ]
  },
  {
   "cell_type": "code",
   "execution_count": 7,
   "metadata": {},
   "outputs": [],
   "source": [
    "# Shuffle the dataset\n",
    "import random\n",
    "random.shuffle(dataset)"
   ]
  },
  {
   "cell_type": "code",
   "execution_count": 8,
   "metadata": {},
   "outputs": [],
   "source": [
    "# Using river, create a streaming naive bayes classifier\n",
    "from river import naive_bayes\n",
    "from river import metrics\n",
    "from river import evaluate\n",
    "\n",
    "model = naive_bayes.GaussianNB()\n",
    "\n",
    "metric = [metrics.BalancedAccuracy(), metrics.F1(), metrics.Precision(), metrics.Recall()]\n",
    "\n",
    "confusion_matrix = np.zeros((2, 2))\n",
    "\n",
    "# Evaluate the model\n",
    "for x, y in dataset:\n",
    "    y_pred = model.predict_one(x)\n",
    "    confusion_matrix[y, y_pred] += 1\n",
    "    metric = [m.update(y, y_pred) for m in metric]\n",
    "    model.learn_one(x, y)"
   ]
  },
  {
   "attachments": {},
   "cell_type": "markdown",
   "metadata": {},
   "source": [
    "Plot the confusion matrix of the model"
   ]
  },
  {
   "cell_type": "code",
   "execution_count": 9,
   "metadata": {},
   "outputs": [
    {
     "data": {
      "image/png": "[encoded data removed]",
      "text/plain": [
       "<Figure size 640x480 with 2 Axes>"
      ]
     },
     "metadata": {},
     "output_type": "display_data"
    },
    {
     "name": "stdout",
     "output_type": "stream",
     "text": [
      "[BalancedAccuracy: 65.08%, F1: 94.32%, Precision: 89.81%, Recall: 99.31%]\n"
     ]
    }
   ],
   "source": [
    "import matplotlib.pyplot as plt\n",
    "import seaborn as sns\n",
    "\n",
    "sns.heatmap(confusion_matrix, annot=True, fmt='g', cmap='Blues')\n",
    "plt.xlabel('Predicted')\n",
    "plt.ylabel('True')\n",
    "plt.title('Confusion Matrix')\n",
    "plt.show()\n",
    "\n",
    "print(metric)"
   ]
  },
  {
   "attachments": {},
   "cell_type": "markdown",
   "metadata": {},
   "source": [
    "The model yields very good results, this is probably due to the fact that the neural network was trained on the same data that we are using to test it. In a real scenario, the neural network would be trained on a different dataset, and the results would be worse. Moreover, the features extracted from the neural network contain a lot of the information of the original data, so the problem of anomaly detection is greatly simplified."
   ]
  },
  {
   "attachments": {},
   "cell_type": "markdown",
   "metadata": {},
   "source": [
    "## Let's try with a Half Space Tree"
   ]
  },
  {
   "cell_type": "code",
   "execution_count": 10,
   "metadata": {},
   "outputs": [
    {
     "name": "stdout",
     "output_type": "stream",
     "text": [
      "[10,000] ROCAUC: 93.39%\n",
      "[20,000] ROCAUC: 93.86%\n",
      "[30,000] ROCAUC: 94.08%\n",
      "[40,000] ROCAUC: 94.32%\n",
      "[49,950] ROCAUC: 94.33%\n"
     ]
    },
    {
     "data": {
      "text/plain": [
       "ROCAUC: 94.33%"
      ]
     },
     "execution_count": 10,
     "metadata": {},
     "output_type": "execute_result"
    }
   ],
   "source": [
    "import river\n",
    "from river import anomaly\n",
    "from river import compose\n",
    "from river import preprocessing\n",
    "\n",
    "model = compose.Pipeline(\n",
    "    preprocessing.MinMaxScaler(),\n",
    "    anomaly.HalfSpaceTrees()\n",
    ")\n",
    "\n",
    "# Evaluate the model\n",
    "river.evaluate.progressive_val_score(dataset, model, metric=metrics.ROCAUC(),\n",
    "                                     print_every=10000)"
   ]
  },
  {
   "attachments": {},
   "cell_type": "markdown",
   "metadata": {},
   "source": [
    "As expected, also Half Space Tree do a decent job at identifying anomalies."
   ]
  },
  {
   "attachments": {},
   "cell_type": "markdown",
   "metadata": {},
   "source": [
    "# Machine specific approach"
   ]
  },
  {
   "attachments": {},
   "cell_type": "markdown",
   "metadata": {},
   "source": [
    "Now let's train a different model for each machine, and see if the results improve."
   ]
  },
  {
   "cell_type": "code",
   "execution_count": 11,
   "metadata": {},
   "outputs": [
    {
     "name": "stdout",
     "output_type": "stream",
     "text": [
      "399/399 [==============================] - 0s 679us/step\n",
      "387/387 [==============================] - 0s 866us/step\n",
      "389/389 [==============================] - 0s 729us/step\n",
      "387/387 [==============================] - 0s 723us/step\n"
     ]
    },
    {
     "data": {
      "text/html": [
       "<div>\n",
       "<style scoped>\n",
       "    .dataframe tbody tr th:only-of-type {\n",
       "        vertical-align: middle;\n",
       "    }\n",
       "\n",
       "    .dataframe tbody tr th {\n",
       "        vertical-align: top;\n",
       "    }\n",
       "\n",
       "    .dataframe thead th {\n",
       "        text-align: right;\n",
       "    }\n",
       "</style>\n",
       "<table border=\"1\" class=\"dataframe\">\n",
       "  <thead>\n",
       "    <tr style=\"text-align: right;\">\n",
       "      <th></th>\n",
       "      <th>model</th>\n",
       "      <th>ROC-AUC</th>\n",
       "    </tr>\n",
       "  </thead>\n",
       "  <tbody>\n",
       "    <tr>\n",
       "      <th>0</th>\n",
       "      <td>00</td>\n",
       "      <td>ROCAUC: 82.54%</td>\n",
       "    </tr>\n",
       "    <tr>\n",
       "      <th>0</th>\n",
       "      <td>02</td>\n",
       "      <td>ROCAUC: 58.80%</td>\n",
       "    </tr>\n",
       "    <tr>\n",
       "      <th>0</th>\n",
       "      <td>04</td>\n",
       "      <td>ROCAUC: 81.34%</td>\n",
       "    </tr>\n",
       "    <tr>\n",
       "      <th>0</th>\n",
       "      <td>06</td>\n",
       "      <td>ROCAUC: 39.12%</td>\n",
       "    </tr>\n",
       "  </tbody>\n",
       "</table>\n",
       "</div>"
      ],
      "text/plain": [
       "  model         ROC-AUC\n",
       "0    00  ROCAUC: 82.54%\n",
       "0    02  ROCAUC: 58.80%\n",
       "0    04  ROCAUC: 81.34%\n",
       "0    06  ROCAUC: 39.12%"
      ]
     },
     "execution_count": 11,
     "metadata": {},
     "output_type": "execute_result"
    }
   ],
   "source": [
    "# Arrange results in a dataframe\n",
    "import pandas as pd\n",
    "\n",
    "results = pd.DataFrame(columns=['model', 'ROC-AUC'])\n",
    "\n",
    "for dataset_label in data.keys():\n",
    "    model = compose.Pipeline(\n",
    "        preprocessing.MinMaxScaler(),\n",
    "        anomaly.HalfSpaceTrees()\n",
    "    )\n",
    "    X = data[dataset_label][0]\n",
    "    y = data[dataset_label][1]\n",
    "    X = new_model.predict(X)\n",
    "    dataset = [({j: X[i,j] for j in range(X.shape[1])}, y[i]) for i in range(X.shape[0])]\n",
    "    eval_results = river.evaluate.progressive_val_score(dataset, model, metric=metrics.ROCAUC())\n",
    "    results = pd.concat([results, pd.DataFrame({'model': [dataset_label], 'ROC-AUC': eval_results})])\n",
    "\n",
    "results"
   ]
  }
 ],
 "metadata": {
  "kernelspec": {
   "display_name": "base",
   "language": "python",
   "name": "python3"
  },
  "language_info": {
   "codemirror_mode": {
    "name": "ipython",
    "version": 3
   },
   "file_extension": ".py",
   "mimetype": "text/x-python",
   "name": "python",
   "nbconvert_exporter": "python",
   "pygments_lexer": "ipython3",
   "version": "3.10.10"
  },
  "orig_nbformat": 4
 },
 "nbformat": 4,
 "nbformat_minor": 2
}
